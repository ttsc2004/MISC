{
 "cells": [
  {
   "cell_type": "code",
   "execution_count": 67,
   "metadata": {
    "collapsed": true
   },
   "outputs": [],
   "source": [
    "import numpy as np\n",
    "data =np.loadtxt('ex1data1.txt', delimiter=',')\n",
    "X = data[:,0]\n",
    "y = data[:,1]\n",
    "m = len(y)"
   ]
  },
  {
   "cell_type": "code",
   "execution_count": 68,
   "metadata": {},
   "outputs": [
    {
     "data": {
      "image/png": "[encoded data removed]",
      "text/plain": [
       "<matplotlib.figure.Figure at 0x7c6ff60>"
      ]
     },
     "metadata": {},
     "output_type": "display_data"
    }
   ],
   "source": [
    "import matplotlib.pyplot as plt\n",
    "plt.plot(X, y, 'rx')\n",
    "plt.ylabel('Profit in $10,000s')\n",
    "plt.xlabel('Population of City in 10,000s')\n",
    "plt.show()"
   ]
  },
  {
   "cell_type": "code",
   "execution_count": 69,
   "metadata": {
    "collapsed": true
   },
   "outputs": [],
   "source": [
    "X = np.column_stack((np.ones((m, 1), dtype=float), data[:, 0]))\n",
    "theta = np.zeros((2,1))\n",
    "\n",
    "iterations = 1500\n",
    "alpha = 0.01"
   ]
  },
  {
   "cell_type": "code",
   "execution_count": 70,
   "metadata": {},
   "outputs": [],
   "source": [
    "delta = np.dot(X, theta).reshape(1, m) - y\n",
    "J_theta=np.sum(delta*delta)/(2*m)\n"
   ]
  },
  {
   "cell_type": "code",
   "execution_count": 71,
   "metadata": {},
   "outputs": [
    {
     "name": "stdout",
     "output_type": "stream",
     "text": [
      "32.0727338775\n"
     ]
    }
   ],
   "source": [
    "print(J_theta)"
   ]
  },
  {
   "cell_type": "code",
   "execution_count": 72,
   "metadata": {},
   "outputs": [],
   "source": [
    "theta_prev = theta\n",
    "delta_theta_0 = np.sum(delta)/m\n",
    "theta = np.zeros((2,1))\n",
    "for i in range(iterations):\n",
    "    delta = np.dot(X, theta).reshape(1, m) - y\n",
    "    delta_theta = alpha * np.array([np.sum(delta)/m, np.sum(delta*X[:,1])/m])\n",
    "    theta -= delta_theta.reshape(2,1)\n",
    "    J_theta = np.sum(delta*delta)/(2*m)"
   ]
  },
  {
   "cell_type": "code",
   "execution_count": 76,
   "metadata": {},
   "outputs": [
    {
     "data": {
      "image/png": "[encoded data removed]",
      "text/plain": [
       "<matplotlib.figure.Figure at 0x7dac240>"
      ]
     },
     "metadata": {},
     "output_type": "display_data"
    }
   ],
   "source": [
    "X1_slick =  np.linspace(5, 22, 5)\n",
    "n_X1_slick = len(X1_slick)\n",
    "X1 = np.column_stack((np.ones((n_X1_slick, 1), dtype=float),X1_slick))\n",
    "y1 = np.dot(X1, theta).reshape(1,n_X1_slick)\n",
    "plt.plot(X1[:,1], y1[0], 'b')\n",
    "plt.plot(X[:,1], y, 'rx')\n",
    "plt.ylabel('Profit in $10,000s')\n",
    "plt.xlabel('Population of City in 10,000s')\n",
    "plt.show()"
   ]
  },
  {
   "cell_type": "code",
   "execution_count": 81,
   "metadata": {},
   "outputs": [],
   "source": [
    "theta0_vals = np.linspace(-10, 10, 50)\n",
    "theta1_vals = np.linspace(-1, 4, 50)\n"
   ]
  },
  {
   "cell_type": "code",
   "execution_count": 82,
   "metadata": {
    "collapsed": true
   },
   "outputs": [],
   "source": [
    "n_theta0_vals = len(theta0_vals)\n",
    "n_theta1_vals = len(theta1_vals)\n",
    "J_vals = np.zeros(n_theta0_vals*n_theta1_vals).reshape(n_theta0_vals, n_theta1_vals)\n",
    "for i in range(n_theta0_vals):\n",
    "    for j in range(n_theta1_vals):\n",
    "        t = [theta0_vals[i], theta1_vals[j]]\n",
    "        delta = np.dot(X, t).reshape(1, m) - y\n",
    "        J_vals[i,j]=np.sum(delta*delta)/(2*m)"
   ]
  },
  {
   "cell_type": "code",
   "execution_count": null,
   "metadata": {
    "collapsed": true
   },
   "outputs": [],
   "source": [
    "plt.plot(theta0_vals, theta1_vals, J_vals)"
   ]
  }
 ],
 "metadata": {
  "kernelspec": {
   "display_name": "Python 3",
   "language": "python",
   "name": "python3"
  },
  "language_info": {
   "codemirror_mode": {
    "name": "ipython",
    "version": 3
   },
   "file_extension": ".py",
   "mimetype": "text/x-python",
   "name": "python",
   "nbconvert_exporter": "python",
   "pygments_lexer": "ipython3",
   "version": "3.6.1"
  }
 },
 "nbformat": 4,
 "nbformat_minor": 2
}
